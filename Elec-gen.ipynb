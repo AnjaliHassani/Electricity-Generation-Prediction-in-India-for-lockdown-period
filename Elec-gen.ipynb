{
 "cells": [
  {
   "cell_type": "code",
   "execution_count": 2,
   "metadata": {},
   "outputs": [],
   "source": [
    "import pandas as pd\n",
    "import seaborn as sns"
   ]
  },
  {
   "cell_type": "code",
   "execution_count": 3,
   "metadata": {},
   "outputs": [],
   "source": [
    "df=pd.read_csv(\"energygen.csv\")"
   ]
  },
  {
   "cell_type": "code",
   "execution_count": 4,
   "metadata": {},
   "outputs": [
    {
     "data": {
      "text/html": [
       "<div>\n",
       "<style scoped>\n",
       "    .dataframe tbody tr th:only-of-type {\n",
       "        vertical-align: middle;\n",
       "    }\n",
       "\n",
       "    .dataframe tbody tr th {\n",
       "        vertical-align: top;\n",
       "    }\n",
       "\n",
       "    .dataframe thead th {\n",
       "        text-align: right;\n",
       "    }\n",
       "</style>\n",
       "<table border=\"1\" class=\"dataframe\">\n",
       "  <thead>\n",
       "    <tr style=\"text-align: right;\">\n",
       "      <th></th>\n",
       "      <th>index</th>\n",
       "      <th>Date</th>\n",
       "      <th>Region</th>\n",
       "      <th>Thermal Generation Actual (in MU)</th>\n",
       "      <th>Thermal Generation Estimated (in MU)</th>\n",
       "      <th>Nuclear Generation Actual (in MU)</th>\n",
       "      <th>Nuclear Generation Estimated (in MU)</th>\n",
       "      <th>Hydro Generation Actual (in MU)</th>\n",
       "      <th>Hydro Generation Estimated (in MU)</th>\n",
       "    </tr>\n",
       "  </thead>\n",
       "  <tbody>\n",
       "    <tr>\n",
       "      <th>0</th>\n",
       "      <td>0</td>\n",
       "      <td>2017-09-01</td>\n",
       "      <td>Northern</td>\n",
       "      <td>624.23</td>\n",
       "      <td>484.21</td>\n",
       "      <td>30.36</td>\n",
       "      <td>35.57</td>\n",
       "      <td>273.27</td>\n",
       "      <td>320.81</td>\n",
       "    </tr>\n",
       "    <tr>\n",
       "      <th>1</th>\n",
       "      <td>1</td>\n",
       "      <td>2017-09-01</td>\n",
       "      <td>Western</td>\n",
       "      <td>1,106.89</td>\n",
       "      <td>1,024.33</td>\n",
       "      <td>25.17</td>\n",
       "      <td>3.81</td>\n",
       "      <td>72.00</td>\n",
       "      <td>21.53</td>\n",
       "    </tr>\n",
       "    <tr>\n",
       "      <th>2</th>\n",
       "      <td>2</td>\n",
       "      <td>2017-09-01</td>\n",
       "      <td>Southern</td>\n",
       "      <td>576.66</td>\n",
       "      <td>578.55</td>\n",
       "      <td>62.73</td>\n",
       "      <td>49.80</td>\n",
       "      <td>111.57</td>\n",
       "      <td>64.78</td>\n",
       "    </tr>\n",
       "    <tr>\n",
       "      <th>3</th>\n",
       "      <td>3</td>\n",
       "      <td>2017-09-01</td>\n",
       "      <td>Eastern</td>\n",
       "      <td>441.02</td>\n",
       "      <td>429.39</td>\n",
       "      <td>NaN</td>\n",
       "      <td>NaN</td>\n",
       "      <td>85.94</td>\n",
       "      <td>69.36</td>\n",
       "    </tr>\n",
       "    <tr>\n",
       "      <th>4</th>\n",
       "      <td>4</td>\n",
       "      <td>2017-09-01</td>\n",
       "      <td>NorthEastern</td>\n",
       "      <td>29.11</td>\n",
       "      <td>15.91</td>\n",
       "      <td>NaN</td>\n",
       "      <td>NaN</td>\n",
       "      <td>24.64</td>\n",
       "      <td>21.21</td>\n",
       "    </tr>\n",
       "  </tbody>\n",
       "</table>\n",
       "</div>"
      ],
      "text/plain": [
       "   index        Date        Region Thermal Generation Actual (in MU)  \\\n",
       "0      0  2017-09-01      Northern                            624.23   \n",
       "1      1  2017-09-01       Western                          1,106.89   \n",
       "2      2  2017-09-01      Southern                            576.66   \n",
       "3      3  2017-09-01       Eastern                            441.02   \n",
       "4      4  2017-09-01  NorthEastern                             29.11   \n",
       "\n",
       "  Thermal Generation Estimated (in MU)  Nuclear Generation Actual (in MU)  \\\n",
       "0                               484.21                              30.36   \n",
       "1                             1,024.33                              25.17   \n",
       "2                               578.55                              62.73   \n",
       "3                               429.39                                NaN   \n",
       "4                                15.91                                NaN   \n",
       "\n",
       "   Nuclear Generation Estimated (in MU)  Hydro Generation Actual (in MU)  \\\n",
       "0                                 35.57                           273.27   \n",
       "1                                  3.81                            72.00   \n",
       "2                                 49.80                           111.57   \n",
       "3                                   NaN                            85.94   \n",
       "4                                   NaN                            24.64   \n",
       "\n",
       "   Hydro Generation Estimated (in MU)  \n",
       "0                              320.81  \n",
       "1                               21.53  \n",
       "2                               64.78  \n",
       "3                               69.36  \n",
       "4                               21.21  "
      ]
     },
     "execution_count": 4,
     "metadata": {},
     "output_type": "execute_result"
    }
   ],
   "source": [
    "df.head()"
   ]
  },
  {
   "cell_type": "code",
   "execution_count": 5,
   "metadata": {},
   "outputs": [
    {
     "name": "stdout",
     "output_type": "stream",
     "text": [
      "<class 'pandas.core.frame.DataFrame'>\n",
      "RangeIndex: 4945 entries, 0 to 4944\n",
      "Data columns (total 9 columns):\n",
      " #   Column                                Non-Null Count  Dtype  \n",
      "---  ------                                --------------  -----  \n",
      " 0   index                                 4945 non-null   int64  \n",
      " 1   Date                                  4945 non-null   object \n",
      " 2   Region                                4945 non-null   object \n",
      " 3   Thermal Generation Actual (in MU)     4945 non-null   object \n",
      " 4   Thermal Generation Estimated (in MU)  4945 non-null   object \n",
      " 5   Nuclear Generation Actual (in MU)     2967 non-null   float64\n",
      " 6   Nuclear Generation Estimated (in MU)  2967 non-null   float64\n",
      " 7   Hydro Generation Actual (in MU)       4945 non-null   float64\n",
      " 8   Hydro Generation Estimated (in MU)    4945 non-null   float64\n",
      "dtypes: float64(4), int64(1), object(4)\n",
      "memory usage: 270.5+ KB\n"
     ]
    }
   ],
   "source": [
    "df.info()"
   ]
  },
  {
   "cell_type": "code",
   "execution_count": 6,
   "metadata": {},
   "outputs": [
    {
     "data": {
      "text/html": [
       "<div>\n",
       "<style scoped>\n",
       "    .dataframe tbody tr th:only-of-type {\n",
       "        vertical-align: middle;\n",
       "    }\n",
       "\n",
       "    .dataframe tbody tr th {\n",
       "        vertical-align: top;\n",
       "    }\n",
       "\n",
       "    .dataframe thead th {\n",
       "        text-align: right;\n",
       "    }\n",
       "</style>\n",
       "<table border=\"1\" class=\"dataframe\">\n",
       "  <thead>\n",
       "    <tr style=\"text-align: right;\">\n",
       "      <th></th>\n",
       "      <th>index</th>\n",
       "      <th>Nuclear Generation Actual (in MU)</th>\n",
       "      <th>Nuclear Generation Estimated (in MU)</th>\n",
       "      <th>Hydro Generation Actual (in MU)</th>\n",
       "      <th>Hydro Generation Estimated (in MU)</th>\n",
       "    </tr>\n",
       "  </thead>\n",
       "  <tbody>\n",
       "    <tr>\n",
       "      <th>count</th>\n",
       "      <td>4945.000000</td>\n",
       "      <td>2967.000000</td>\n",
       "      <td>2967.000000</td>\n",
       "      <td>4945.000000</td>\n",
       "      <td>4945.000000</td>\n",
       "    </tr>\n",
       "    <tr>\n",
       "      <th>mean</th>\n",
       "      <td>2181.433771</td>\n",
       "      <td>37.242208</td>\n",
       "      <td>36.987877</td>\n",
       "      <td>73.305921</td>\n",
       "      <td>76.842965</td>\n",
       "    </tr>\n",
       "    <tr>\n",
       "      <th>std</th>\n",
       "      <td>1397.754755</td>\n",
       "      <td>15.883968</td>\n",
       "      <td>11.491292</td>\n",
       "      <td>74.482145</td>\n",
       "      <td>82.043952</td>\n",
       "    </tr>\n",
       "    <tr>\n",
       "      <th>min</th>\n",
       "      <td>0.000000</td>\n",
       "      <td>0.000000</td>\n",
       "      <td>0.000000</td>\n",
       "      <td>0.000000</td>\n",
       "      <td>0.000000</td>\n",
       "    </tr>\n",
       "    <tr>\n",
       "      <th>25%</th>\n",
       "      <td>926.000000</td>\n",
       "      <td>26.140000</td>\n",
       "      <td>30.190000</td>\n",
       "      <td>26.910000</td>\n",
       "      <td>23.310000</td>\n",
       "    </tr>\n",
       "    <tr>\n",
       "      <th>50%</th>\n",
       "      <td>2162.000000</td>\n",
       "      <td>30.720000</td>\n",
       "      <td>34.840000</td>\n",
       "      <td>52.960000</td>\n",
       "      <td>50.270000</td>\n",
       "    </tr>\n",
       "    <tr>\n",
       "      <th>75%</th>\n",
       "      <td>3398.000000</td>\n",
       "      <td>46.830000</td>\n",
       "      <td>43.075000</td>\n",
       "      <td>85.940000</td>\n",
       "      <td>95.800000</td>\n",
       "    </tr>\n",
       "    <tr>\n",
       "      <th>max</th>\n",
       "      <td>4634.000000</td>\n",
       "      <td>68.740000</td>\n",
       "      <td>76.640000</td>\n",
       "      <td>348.720000</td>\n",
       "      <td>397.380000</td>\n",
       "    </tr>\n",
       "  </tbody>\n",
       "</table>\n",
       "</div>"
      ],
      "text/plain": [
       "             index  Nuclear Generation Actual (in MU)  \\\n",
       "count  4945.000000                        2967.000000   \n",
       "mean   2181.433771                          37.242208   \n",
       "std    1397.754755                          15.883968   \n",
       "min       0.000000                           0.000000   \n",
       "25%     926.000000                          26.140000   \n",
       "50%    2162.000000                          30.720000   \n",
       "75%    3398.000000                          46.830000   \n",
       "max    4634.000000                          68.740000   \n",
       "\n",
       "       Nuclear Generation Estimated (in MU)  Hydro Generation Actual (in MU)  \\\n",
       "count                           2967.000000                      4945.000000   \n",
       "mean                              36.987877                        73.305921   \n",
       "std                               11.491292                        74.482145   \n",
       "min                                0.000000                         0.000000   \n",
       "25%                               30.190000                        26.910000   \n",
       "50%                               34.840000                        52.960000   \n",
       "75%                               43.075000                        85.940000   \n",
       "max                               76.640000                       348.720000   \n",
       "\n",
       "       Hydro Generation Estimated (in MU)  \n",
       "count                         4945.000000  \n",
       "mean                            76.842965  \n",
       "std                             82.043952  \n",
       "min                              0.000000  \n",
       "25%                             23.310000  \n",
       "50%                             50.270000  \n",
       "75%                             95.800000  \n",
       "max                            397.380000  "
      ]
     },
     "execution_count": 6,
     "metadata": {},
     "output_type": "execute_result"
    }
   ],
   "source": [
    "df.describe()"
   ]
  },
  {
   "cell_type": "code",
   "execution_count": 7,
   "metadata": {},
   "outputs": [
    {
     "data": {
      "text/plain": [
       "index                                      0\n",
       "Date                                       0\n",
       "Region                                     0\n",
       "Thermal Generation Actual (in MU)          0\n",
       "Thermal Generation Estimated (in MU)       0\n",
       "Nuclear Generation Actual (in MU)       1978\n",
       "Nuclear Generation Estimated (in MU)    1978\n",
       "Hydro Generation Actual (in MU)            0\n",
       "Hydro Generation Estimated (in MU)         0\n",
       "dtype: int64"
      ]
     },
     "execution_count": 7,
     "metadata": {},
     "output_type": "execute_result"
    }
   ],
   "source": [
    "df.isna().sum()"
   ]
  },
  {
   "cell_type": "code",
   "execution_count": 13,
   "metadata": {},
   "outputs": [
    {
     "data": {
      "image/png": "[encoded data removed]",
      "text/plain": [
       "<Figure size 432x288 with 2 Axes>"
      ]
     },
     "metadata": {
      "needs_background": "light"
     },
     "output_type": "display_data"
    }
   ],
   "source": [
    "plt.show(sns.heatmap(df.isnull()))"
   ]
  },
  {
   "cell_type": "code",
   "execution_count": 14,
   "metadata": {},
   "outputs": [
    {
     "data": {
      "text/plain": [
       "array(['Northern', 'Western', 'Southern', 'Eastern', 'NorthEastern'],\n",
       "      dtype=object)"
      ]
     },
     "execution_count": 14,
     "metadata": {},
     "output_type": "execute_result"
    }
   ],
   "source": [
    "df.Region.unique()"
   ]
  },
  {
   "cell_type": "code",
   "execution_count": null,
   "metadata": {},
   "outputs": [],
   "source": []
  }
 ],
 "metadata": {
  "kernelspec": {
   "display_name": "Python 3",
   "language": "python",
   "name": "python3"
  },
  "language_info": {
   "codemirror_mode": {
    "name": "ipython",
    "version": 3
   },
   "file_extension": ".py",
   "mimetype": "text/x-python",
   "name": "python",
   "nbconvert_exporter": "python",
   "pygments_lexer": "ipython3",
   "version": "3.8.3"
  }
 },
 "nbformat": 4,
 "nbformat_minor": 4
}
